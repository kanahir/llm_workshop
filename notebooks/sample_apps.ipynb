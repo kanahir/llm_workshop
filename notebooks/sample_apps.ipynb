{
  "cells": [
    {
      "cell_type": "code",
      "execution_count": null,
      "metadata": {
        "id": "ePoY9_Q3jxvI"
      },
      "outputs": [],
      "source": [
        "import sys, json\n",
        "import pandas as pd\n",
        "from pathlib import Path\n",
        "from IPython.display import HTML, display\n",
        "from decouple import config\n",
        "sys.path.append(\"../src/\")\n",
        "from llm_helpers import chatgpt_ask\n",
        "\n",
        "pd.set_option('display.max_columns', 1000, 'display.width', 1000, 'display.max_rows',1000)\n",
        "\n",
        "data_dir = Path(\".\").absolute().parent/\"data\"\n",
        "ls = lambda p:print(\"\\n\".join(map(str,p.iterdir())))\n",
        "\n",
        "ls(data_dir)"
      ]
    },
    {
      "cell_type": "code",
      "execution_count": null,
      "metadata": {
        "id": "S2XQnrqNjxvQ"
      },
      "outputs": [],
      "source": [
        "df = pd.read_parquet(data_dir / \"sample_apps.parquet\").sample(9)\n",
        "df"
      ]
    },
    {
      "cell_type": "markdown",
      "metadata": {
        "id": "Ev3zDmWqjxvS"
      },
      "source": [
        "## Ask ChatGPT a question on every row"
      ]
    },
    {
      "cell_type": "code",
      "execution_count": null,
      "metadata": {
        "id": "znASIX11jxvU"
      },
      "outputs": [],
      "source": [
        "df[\"for_kids\"] = df.apply(chatgpt_ask(\"Given the app description:\\n{description}\\n\\nIs it for kids?\\nAnswer only yes or no\"),axis=1)\n",
        "df"
      ]
    },
    {
      "cell_type": "markdown",
      "metadata": {
        "id": "gbBBnuOZjxvU"
      },
      "source": [
        "## Question:\n",
        "Please rewrite the code such that the response to a yes/no question would be boolean (`True` or `False`)"
      ]
    },
    {
      "cell_type": "code",
      "execution_count": null,
      "metadata": {
        "id": "_Ds7D8lcjxvV"
      },
      "outputs": [],
      "source": [
        "df[\"for_kids\"] = df.apply(chatgpt_ask(\"Given the app description:\\n{description}\\n\\nIs it for kids?\\nAnswer only yes or no\"),axis=1).str.contains('|'.join(['Yes', 'yes']))\n",
        "df"
      ]
    }
  ],
  "metadata": {
    "kernelspec": {
      "display_name": "Python 3 (ipykernel)",
      "language": "python",
      "name": "python3"
    },
    "language_info": {
      "codemirror_mode": {
        "name": "ipython",
        "version": 3
      },
      "file_extension": ".py",
      "mimetype": "text/x-python",
      "name": "python",
      "nbconvert_exporter": "python",
      "pygments_lexer": "ipython3",
      "version": "3.11.5"
    },
    "colab": {
      "provenance": []
    }
  },
  "nbformat": 4,
  "nbformat_minor": 0
}